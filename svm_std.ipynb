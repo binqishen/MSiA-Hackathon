{
 "cells": [
  {
   "cell_type": "code",
   "execution_count": 1,
   "id": "exempt-poland",
   "metadata": {},
   "outputs": [
    {
     "name": "stderr",
     "output_type": "stream",
     "text": [
      "/opt/conda/lib/python3.8/site-packages/qiskit/providers/ibmq/ibmqfactory.py:192: UserWarning: Timestamps in IBMQ backend properties, jobs, and job results are all now in local time instead of UTC.\n",
      "  warnings.warn('Timestamps in IBMQ backend properties, jobs, and job results '\n"
     ]
    }
   ],
   "source": [
    "%matplotlib inline\n",
    "# Importing standard Qiskit libraries\n",
    "from qiskit import QuantumCircuit, execute, Aer, IBMQ\n",
    "from qiskit.compiler import transpile, assemble\n",
    "from qiskit.tools.jupyter import *\n",
    "from qiskit.visualization import *\n",
    "from ibm_quantum_widgets import *\n",
    "\n",
    "# Loading your IBM Q account(s)\n",
    "provider = IBMQ.load_account()"
   ]
  },
  {
   "cell_type": "code",
   "execution_count": 2,
   "id": "northern-arbor",
   "metadata": {},
   "outputs": [],
   "source": [
    "# python\n",
    "import numpy as np\n",
    "import pandas as pd\n",
    "import matplotlib.pyplot as plt\n",
    "\n",
    "# qiskit\n",
    "from qiskit import BasicAer\n",
    "from qiskit.circuit.library import ZZFeatureMap\n",
    "from qiskit.aqua import QuantumInstance, aqua_globals\n",
    "from qiskit.aqua.algorithms import QSVM\n",
    "from qiskit.aqua.components.multiclass_extensions import AllPairs\n",
    "from qiskit.aqua.utils.dataset_helper import get_feature_dimension"
   ]
  },
  {
   "cell_type": "code",
   "execution_count": 4,
   "id": "attempted-satisfaction",
   "metadata": {},
   "outputs": [],
   "source": [
    "df = pd.read_csv(\"data2.csv\")\n",
    "df = df[['signs_of_mental_illness','flee','threat_other','age','poverty_rate','Median Income','Race_White']]"
   ]
  },
  {
   "cell_type": "code",
   "execution_count": 5,
   "id": "herbal-liberal",
   "metadata": {},
   "outputs": [
    {
     "data": {
      "text/html": [
       "<div>\n",
       "<style scoped>\n",
       "    .dataframe tbody tr th:only-of-type {\n",
       "        vertical-align: middle;\n",
       "    }\n",
       "\n",
       "    .dataframe tbody tr th {\n",
       "        vertical-align: top;\n",
       "    }\n",
       "\n",
       "    .dataframe thead th {\n",
       "        text-align: right;\n",
       "    }\n",
       "</style>\n",
       "<table border=\"1\" class=\"dataframe\">\n",
       "  <thead>\n",
       "    <tr style=\"text-align: right;\">\n",
       "      <th></th>\n",
       "      <th>signs_of_mental_illness</th>\n",
       "      <th>flee</th>\n",
       "      <th>threat_other</th>\n",
       "      <th>age</th>\n",
       "      <th>poverty_rate</th>\n",
       "      <th>Median Income</th>\n",
       "      <th>Race_White</th>\n",
       "    </tr>\n",
       "  </thead>\n",
       "  <tbody>\n",
       "    <tr>\n",
       "      <th>0</th>\n",
       "      <td>1</td>\n",
       "      <td>0</td>\n",
       "      <td>0</td>\n",
       "      <td>53.0</td>\n",
       "      <td>28.6</td>\n",
       "      <td>37072</td>\n",
       "      <td>0</td>\n",
       "    </tr>\n",
       "    <tr>\n",
       "      <th>1</th>\n",
       "      <td>0</td>\n",
       "      <td>0</td>\n",
       "      <td>0</td>\n",
       "      <td>47.0</td>\n",
       "      <td>14.9</td>\n",
       "      <td>65765</td>\n",
       "      <td>1</td>\n",
       "    </tr>\n",
       "    <tr>\n",
       "      <th>2</th>\n",
       "      <td>1</td>\n",
       "      <td>0</td>\n",
       "      <td>1</td>\n",
       "      <td>55.0</td>\n",
       "      <td>14.9</td>\n",
       "      <td>65765</td>\n",
       "      <td>1</td>\n",
       "    </tr>\n",
       "    <tr>\n",
       "      <th>3</th>\n",
       "      <td>0</td>\n",
       "      <td>0</td>\n",
       "      <td>1</td>\n",
       "      <td>23.0</td>\n",
       "      <td>17.3</td>\n",
       "      <td>45947</td>\n",
       "      <td>0</td>\n",
       "    </tr>\n",
       "    <tr>\n",
       "      <th>4</th>\n",
       "      <td>0</td>\n",
       "      <td>1</td>\n",
       "      <td>0</td>\n",
       "      <td>26.0</td>\n",
       "      <td>17.3</td>\n",
       "      <td>45947</td>\n",
       "      <td>1</td>\n",
       "    </tr>\n",
       "  </tbody>\n",
       "</table>\n",
       "</div>"
      ],
      "text/plain": [
       "   signs_of_mental_illness  flee  threat_other   age  poverty_rate  \\\n",
       "0                        1     0             0  53.0          28.6   \n",
       "1                        0     0             0  47.0          14.9   \n",
       "2                        1     0             1  55.0          14.9   \n",
       "3                        0     0             1  23.0          17.3   \n",
       "4                        0     1             0  26.0          17.3   \n",
       "\n",
       "  Median Income  Race_White  \n",
       "0         37072           0  \n",
       "1         65765           1  \n",
       "2         65765           1  \n",
       "3         45947           0  \n",
       "4         45947           1  "
      ]
     },
     "execution_count": 5,
     "metadata": {},
     "output_type": "execute_result"
    }
   ],
   "source": [
    "df.head()"
   ]
  },
  {
   "cell_type": "code",
   "execution_count": 29,
   "id": "surrounded-finger",
   "metadata": {},
   "outputs": [],
   "source": [
    "df['Median Income'] = pd.to_numeric(df['Median Income'], errors='coerce')"
   ]
  },
  {
   "cell_type": "code",
   "execution_count": 31,
   "id": "mediterranean-gibson",
   "metadata": {},
   "outputs": [
    {
     "name": "stderr",
     "output_type": "stream",
     "text": [
      "/opt/conda/lib/python3.8/site-packages/pandas/core/indexing.py:1754: SettingWithCopyWarning: \n",
      "A value is trying to be set on a copy of a slice from a DataFrame.\n",
      "Try using .loc[row_indexer,col_indexer] = value instead\n",
      "\n",
      "See the caveats in the documentation: https://pandas.pydata.org/pandas-docs/stable/user_guide/indexing.html#returning-a-view-versus-a-copy\n",
      "  self._setitem_single_column(loc, val, pi)\n"
     ]
    },
    {
     "data": {
      "text/html": [
       "<div>\n",
       "<style scoped>\n",
       "    .dataframe tbody tr th:only-of-type {\n",
       "        vertical-align: middle;\n",
       "    }\n",
       "\n",
       "    .dataframe tbody tr th {\n",
       "        vertical-align: top;\n",
       "    }\n",
       "\n",
       "    .dataframe thead th {\n",
       "        text-align: right;\n",
       "    }\n",
       "</style>\n",
       "<table border=\"1\" class=\"dataframe\">\n",
       "  <thead>\n",
       "    <tr style=\"text-align: right;\">\n",
       "      <th></th>\n",
       "      <th>signs_of_mental_illness</th>\n",
       "      <th>flee</th>\n",
       "      <th>threat_other</th>\n",
       "      <th>age</th>\n",
       "      <th>poverty_rate</th>\n",
       "      <th>Median Income</th>\n",
       "      <th>Race_White</th>\n",
       "    </tr>\n",
       "  </thead>\n",
       "  <tbody>\n",
       "    <tr>\n",
       "      <th>0</th>\n",
       "      <td>1</td>\n",
       "      <td>0</td>\n",
       "      <td>0</td>\n",
       "      <td>1.312747</td>\n",
       "      <td>1.121196</td>\n",
       "      <td>-0.727598</td>\n",
       "      <td>-0.940754</td>\n",
       "    </tr>\n",
       "    <tr>\n",
       "      <th>1</th>\n",
       "      <td>0</td>\n",
       "      <td>0</td>\n",
       "      <td>0</td>\n",
       "      <td>0.844691</td>\n",
       "      <td>-0.589722</td>\n",
       "      <td>1.070060</td>\n",
       "      <td>1.062476</td>\n",
       "    </tr>\n",
       "    <tr>\n",
       "      <th>2</th>\n",
       "      <td>1</td>\n",
       "      <td>0</td>\n",
       "      <td>1</td>\n",
       "      <td>1.468765</td>\n",
       "      <td>-0.589722</td>\n",
       "      <td>1.070060</td>\n",
       "      <td>1.062476</td>\n",
       "    </tr>\n",
       "    <tr>\n",
       "      <th>3</th>\n",
       "      <td>0</td>\n",
       "      <td>0</td>\n",
       "      <td>1</td>\n",
       "      <td>-1.027533</td>\n",
       "      <td>-0.289999</td>\n",
       "      <td>-0.171567</td>\n",
       "      <td>-0.940754</td>\n",
       "    </tr>\n",
       "    <tr>\n",
       "      <th>4</th>\n",
       "      <td>0</td>\n",
       "      <td>1</td>\n",
       "      <td>0</td>\n",
       "      <td>-0.793505</td>\n",
       "      <td>-0.289999</td>\n",
       "      <td>-0.171567</td>\n",
       "      <td>1.062476</td>\n",
       "    </tr>\n",
       "  </tbody>\n",
       "</table>\n",
       "</div>"
      ],
      "text/plain": [
       "   signs_of_mental_illness  flee  threat_other       age  poverty_rate  \\\n",
       "0                        1     0             0  1.312747      1.121196   \n",
       "1                        0     0             0  0.844691     -0.589722   \n",
       "2                        1     0             1  1.468765     -0.589722   \n",
       "3                        0     0             1 -1.027533     -0.289999   \n",
       "4                        0     1             0 -0.793505     -0.289999   \n",
       "\n",
       "   Median Income  Race_White  \n",
       "0      -0.727598   -0.940754  \n",
       "1       1.070060    1.062476  \n",
       "2       1.070060    1.062476  \n",
       "3      -0.171567   -0.940754  \n",
       "4      -0.171567    1.062476  "
      ]
     },
     "execution_count": 31,
     "metadata": {},
     "output_type": "execute_result"
    }
   ],
   "source": [
    "# from sklearn import preprocessing\n",
    "\n",
    "# normalize the data attributes\n",
    "df_n = df.dropna()\n",
    "df_n.iloc[:,3:] = (df_n.iloc[:,3:]-df_n.iloc[:,3:].mean()) / (df_n.iloc[:,3:].std())\n",
    "df_n.head()"
   ]
  },
  {
   "cell_type": "code",
   "execution_count": 32,
   "id": "angry-round",
   "metadata": {},
   "outputs": [
    {
     "data": {
      "text/html": [
       "<div>\n",
       "<style scoped>\n",
       "    .dataframe tbody tr th:only-of-type {\n",
       "        vertical-align: middle;\n",
       "    }\n",
       "\n",
       "    .dataframe tbody tr th {\n",
       "        vertical-align: top;\n",
       "    }\n",
       "\n",
       "    .dataframe thead th {\n",
       "        text-align: right;\n",
       "    }\n",
       "</style>\n",
       "<table border=\"1\" class=\"dataframe\">\n",
       "  <thead>\n",
       "    <tr style=\"text-align: right;\">\n",
       "      <th></th>\n",
       "      <th>signs_of_mental_illness</th>\n",
       "      <th>flee</th>\n",
       "      <th>threat_other</th>\n",
       "      <th>age</th>\n",
       "      <th>poverty_rate</th>\n",
       "      <th>Median Income</th>\n",
       "      <th>Race_White</th>\n",
       "    </tr>\n",
       "  </thead>\n",
       "  <tbody>\n",
       "    <tr>\n",
       "      <th>count</th>\n",
       "      <td>2123.000000</td>\n",
       "      <td>2123.000000</td>\n",
       "      <td>2123.000000</td>\n",
       "      <td>2.123000e+03</td>\n",
       "      <td>2.123000e+03</td>\n",
       "      <td>2.123000e+03</td>\n",
       "      <td>2.123000e+03</td>\n",
       "    </tr>\n",
       "    <tr>\n",
       "      <th>mean</th>\n",
       "      <td>0.246821</td>\n",
       "      <td>0.339143</td>\n",
       "      <td>0.308055</td>\n",
       "      <td>3.302953e-16</td>\n",
       "      <td>-4.792877e-15</td>\n",
       "      <td>2.399556e-16</td>\n",
       "      <td>-4.279823e-16</td>\n",
       "    </tr>\n",
       "    <tr>\n",
       "      <th>std</th>\n",
       "      <td>0.431263</td>\n",
       "      <td>0.473530</td>\n",
       "      <td>0.461798</td>\n",
       "      <td>1.000000e+00</td>\n",
       "      <td>1.000000e+00</td>\n",
       "      <td>1.000000e+00</td>\n",
       "      <td>1.000000e+00</td>\n",
       "    </tr>\n",
       "    <tr>\n",
       "      <th>min</th>\n",
       "      <td>0.000000</td>\n",
       "      <td>0.000000</td>\n",
       "      <td>0.000000</td>\n",
       "      <td>-2.353692e+00</td>\n",
       "      <td>-2.375570e+00</td>\n",
       "      <td>-2.293196e+00</td>\n",
       "      <td>-9.407540e-01</td>\n",
       "    </tr>\n",
       "    <tr>\n",
       "      <th>25%</th>\n",
       "      <td>0.000000</td>\n",
       "      <td>0.000000</td>\n",
       "      <td>0.000000</td>\n",
       "      <td>-7.935052e-01</td>\n",
       "      <td>-6.209429e-01</td>\n",
       "      <td>-6.224693e-01</td>\n",
       "      <td>-9.407540e-01</td>\n",
       "    </tr>\n",
       "    <tr>\n",
       "      <th>50%</th>\n",
       "      <td>0.000000</td>\n",
       "      <td>0.000000</td>\n",
       "      <td>0.000000</td>\n",
       "      <td>-1.694305e-01</td>\n",
       "      <td>-4.023010e-02</td>\n",
       "      <td>-1.203805e-01</td>\n",
       "      <td>-9.407540e-01</td>\n",
       "    </tr>\n",
       "    <tr>\n",
       "      <th>75%</th>\n",
       "      <td>0.000000</td>\n",
       "      <td>1.000000</td>\n",
       "      <td>1.000000</td>\n",
       "      <td>6.886721e-01</td>\n",
       "      <td>5.467270e-01</td>\n",
       "      <td>3.236305e-01</td>\n",
       "      <td>1.062476e+00</td>\n",
       "    </tr>\n",
       "    <tr>\n",
       "      <th>max</th>\n",
       "      <td>1.000000</td>\n",
       "      <td>1.000000</td>\n",
       "      <td>1.000000</td>\n",
       "      <td>3.887055e+00</td>\n",
       "      <td>7.090674e+00</td>\n",
       "      <td>7.975817e+00</td>\n",
       "      <td>1.062476e+00</td>\n",
       "    </tr>\n",
       "  </tbody>\n",
       "</table>\n",
       "</div>"
      ],
      "text/plain": [
       "       signs_of_mental_illness         flee  threat_other           age  \\\n",
       "count              2123.000000  2123.000000   2123.000000  2.123000e+03   \n",
       "mean                  0.246821     0.339143      0.308055  3.302953e-16   \n",
       "std                   0.431263     0.473530      0.461798  1.000000e+00   \n",
       "min                   0.000000     0.000000      0.000000 -2.353692e+00   \n",
       "25%                   0.000000     0.000000      0.000000 -7.935052e-01   \n",
       "50%                   0.000000     0.000000      0.000000 -1.694305e-01   \n",
       "75%                   0.000000     1.000000      1.000000  6.886721e-01   \n",
       "max                   1.000000     1.000000      1.000000  3.887055e+00   \n",
       "\n",
       "       poverty_rate  Median Income    Race_White  \n",
       "count  2.123000e+03   2.123000e+03  2.123000e+03  \n",
       "mean  -4.792877e-15   2.399556e-16 -4.279823e-16  \n",
       "std    1.000000e+00   1.000000e+00  1.000000e+00  \n",
       "min   -2.375570e+00  -2.293196e+00 -9.407540e-01  \n",
       "25%   -6.209429e-01  -6.224693e-01 -9.407540e-01  \n",
       "50%   -4.023010e-02  -1.203805e-01 -9.407540e-01  \n",
       "75%    5.467270e-01   3.236305e-01  1.062476e+00  \n",
       "max    7.090674e+00   7.975817e+00  1.062476e+00  "
      ]
     },
     "execution_count": 32,
     "metadata": {},
     "output_type": "execute_result"
    }
   ],
   "source": [
    "df_n.describe()"
   ]
  },
  {
   "cell_type": "code",
   "execution_count": 33,
   "id": "coral-literacy",
   "metadata": {},
   "outputs": [
    {
     "data": {
      "text/plain": [
       "[1, 0]"
      ]
     },
     "execution_count": 33,
     "metadata": {},
     "output_type": "execute_result"
    }
   ],
   "source": [
    "class_labels = list(df_n.signs_of_mental_illness.unique())\n",
    "class_labels"
   ]
  },
  {
   "cell_type": "code",
   "execution_count": 137,
   "id": "economic-guide",
   "metadata": {},
   "outputs": [],
   "source": [
    "train = pd.concat([df_n.loc[df.signs_of_mental_illness==0,].sample(100),df_n.loc[df.signs_of_mental_illness==1,].sample(100)])\n",
    "test = pd.concat([df_n.loc[df.signs_of_mental_illness==0,].sample(100),df_n.loc[df.signs_of_mental_illness==1,].sample(100)])"
   ]
  },
  {
   "cell_type": "code",
   "execution_count": 42,
   "id": "pleased-hormone",
   "metadata": {},
   "outputs": [],
   "source": [
    "train = df_n.sample(200)\n",
    "test = df_n.sample(100)"
   ]
  },
  {
   "cell_type": "code",
   "execution_count": 43,
   "id": "least-stadium",
   "metadata": {},
   "outputs": [
    {
     "data": {
      "text/plain": [
       "array([[ 0.        ,  0.        ,  2.5608961 , -2.11331251,  1.27668449,\n",
       "         1.06247644],\n",
       "       [ 0.        ,  0.        , -1.10554253, -0.26502217,  0.09501527,\n",
       "        -0.94075401]])"
      ]
     },
     "execution_count": 43,
     "metadata": {},
     "output_type": "execute_result"
    }
   ],
   "source": [
    "sample_Total = train.iloc[:,1:].to_numpy() # numpy.ndarray\n",
    "sample_Total[0:2,]"
   ]
  },
  {
   "cell_type": "code",
   "execution_count": 44,
   "id": "active-prototype",
   "metadata": {},
   "outputs": [],
   "source": [
    "d_train = {}\n",
    "A = train.loc[train.signs_of_mental_illness==0,]\n",
    "A = A.iloc[:,1:].to_numpy()\n",
    "d_train[0] = A\n",
    "\n",
    "B = train.loc[train.signs_of_mental_illness==1,]\n",
    "B = B.iloc[:,1:].to_numpy()\n",
    "d_train[1] = B\n",
    "\n",
    "train_input = d_train # dict"
   ]
  },
  {
   "cell_type": "code",
   "execution_count": 45,
   "id": "amazing-color",
   "metadata": {},
   "outputs": [],
   "source": [
    "d_test = {}\n",
    "A = test.loc[test.signs_of_mental_illness==0,]\n",
    "A = A.iloc[:,1:].to_numpy()\n",
    "d_test[0] = A\n",
    "\n",
    "B = test.loc[test.signs_of_mental_illness==1,]\n",
    "B = B.iloc[:,1:].to_numpy()\n",
    "d_test[1] = B\n",
    "\n",
    "test_input = d_test # dict"
   ]
  },
  {
   "cell_type": "code",
   "execution_count": 46,
   "id": "practical-wheel",
   "metadata": {},
   "outputs": [],
   "source": [
    "temp = [test_input[k] for k in test_input]\n",
    "total_array = np.concatenate(temp)"
   ]
  },
  {
   "cell_type": "code",
   "execution_count": 47,
   "id": "cathedral-fantasy",
   "metadata": {},
   "outputs": [
    {
     "name": "stderr",
     "output_type": "stream",
     "text": [
      "Dataset has just two classes. Supplied multiclass extension will be ignored\n"
     ]
    },
    {
     "name": "stdout",
     "output_type": "stream",
     "text": [
      "testing_accuracy : 0.73\n",
      "test_success_ratio : 0.73\n",
      "predicted_labels : [0 0 0 0 0 0 0 0 0 0 0 1 0 0 0 1 0 0 0 0 0 0 1 1 0 0 0 0 1 1 0 0 0 0 0 0 0\n",
      " 0 0 1 0 0 0 0 0 1 0 0 0 1 0 0 1 1 1 0 0 0 1 0 0 0 0 0 0 0 0 0 1 0 0 0 0 1\n",
      " 0 0 1 1 1 1 0 0 0 0 1 0 0 0 1 0 1 1 0 1 0 0 1 0 1 1]\n",
      "predicted_classes : [0, 0, 0, 0, 0, 0, 0, 0, 0, 0, 0, 1, 0, 0, 0, 1, 0, 0, 0, 0, 0, 0, 1, 1, 0, 0, 0, 0, 1, 1, 0, 0, 0, 0, 0, 0, 0, 0, 0, 1, 0, 0, 0, 0, 0, 1, 0, 0, 0, 1, 0, 0, 1, 1, 1, 0, 0, 0, 1, 0, 0, 0, 0, 0, 0, 0, 0, 0, 1, 0, 0, 0, 0, 1, 0, 0, 1, 1, 1, 1, 0, 0, 0, 0, 1, 0, 0, 0, 1, 0, 1, 1, 0, 1, 0, 0, 1, 0, 1, 1]\n"
     ]
    }
   ],
   "source": [
    "aqua_globals.random_seed = 100\n",
    "\n",
    "backend = BasicAer.get_backend('qasm_simulator')\n",
    "feature_map = ZZFeatureMap(feature_dimension=get_feature_dimension(train_input),\n",
    "                           reps=2, entanglement='linear')\n",
    "svm = QSVM(feature_map, train_input, test_input, total_array,\n",
    "           multiclass_extension=AllPairs())\n",
    "quantum_instance = QuantumInstance(backend, shots=1024,\n",
    "                                   seed_simulator=aqua_globals.random_seed,\n",
    "                                   seed_transpiler=aqua_globals.random_seed)\n",
    "\n",
    "result = svm.run(quantum_instance)\n",
    "for k,v in result.items():\n",
    "    print(f'{k} : {v}')"
   ]
  },
  {
   "cell_type": "code",
   "execution_count": 41,
   "id": "parallel-leonard",
   "metadata": {},
   "outputs": [
    {
     "data": {
      "text/plain": [
       "signs_of_mental_illness    0.65\n",
       "flee                       0.65\n",
       "threat_other               0.65\n",
       "age                        0.65\n",
       "poverty_rate               0.65\n",
       "Median Income              0.65\n",
       "Race_White                 0.65\n",
       "dtype: float64"
      ]
     },
     "execution_count": 41,
     "metadata": {},
     "output_type": "execute_result"
    }
   ],
   "source": [
    "train.loc[train.signs_of_mental_illness==0,].count()/train.shape[0]"
   ]
  }
 ],
 "metadata": {
  "kernelspec": {
   "display_name": "Python 3",
   "language": "python",
   "name": "python3"
  },
  "language_info": {
   "codemirror_mode": {
    "name": "ipython",
    "version": 3
   },
   "file_extension": ".py",
   "mimetype": "text/x-python",
   "name": "python",
   "nbconvert_exporter": "python",
   "pygments_lexer": "ipython3",
   "version": "3.8.6"
  }
 },
 "nbformat": 4,
 "nbformat_minor": 5
}
